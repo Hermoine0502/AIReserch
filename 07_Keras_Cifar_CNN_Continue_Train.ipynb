{
 "cells": [
  {
   "cell_type": "markdown",
   "metadata": {},
   "source": [
    "# 1. Import Library"
   ]
  },
  {
   "cell_type": "code",
   "execution_count": 1,
   "metadata": {},
   "outputs": [
    {
     "name": "stderr",
     "output_type": "stream",
     "text": [
      "Using TensorFlow backend.\n"
     ]
    }
   ],
   "source": [
    "from keras.datasets import cifar10\n",
    "\n",
    "# For tensorflow.keras\n",
    "#from tensorflow.keras.datasets import cifar10\n",
    "\n",
    "import numpy as np\n",
    "np.random.seed(10)"
   ]
  },
  {
   "cell_type": "markdown",
   "metadata": {},
   "source": [
    "# 資料準備"
   ]
  },
  {
   "cell_type": "code",
   "execution_count": 2,
   "metadata": {},
   "outputs": [],
   "source": [
    "(x_img_train,y_label_train),(x_img_test,y_label_test)=cifar10.load_data()"
   ]
  },
  {
   "cell_type": "code",
   "execution_count": 3,
   "metadata": {},
   "outputs": [
    {
     "name": "stdout",
     "output_type": "stream",
     "text": [
      "train data: images: (50000, 32, 32, 3)  labels: (50000, 1)\n",
      "test  data: images: (10000, 32, 32, 3)  labels: (10000, 1)\n"
     ]
    }
   ],
   "source": [
    "print(\"train data:\",'images:',x_img_train.shape,\n",
    "      \" labels:\",y_label_train.shape) \n",
    "print(\"test  data:\",'images:',x_img_test.shape ,\n",
    "      \" labels:\",y_label_test.shape) "
   ]
  },
  {
   "cell_type": "code",
   "execution_count": 4,
   "metadata": {},
   "outputs": [],
   "source": [
    "x_img_train_normalize = x_img_train.astype('float32') / 255.0\n",
    "x_img_test_normalize = x_img_test.astype('float32') / 255.0"
   ]
  },
  {
   "cell_type": "code",
   "execution_count": 5,
   "metadata": {},
   "outputs": [],
   "source": [
    "from keras.utils import np_utils\n",
    "y_label_train_OneHot = np_utils.to_categorical(y_label_train)\n",
    "y_label_test_OneHot = np_utils.to_categorical(y_label_test)\n",
    "\n",
    "# For tensorflow.keras\n",
    "#from tensorflow.keras.utils import to_categorical\n",
    "#y_label_train_OneHot = to_categorical(y_label_train)\n",
    "#y_label_test_OneHot = to_categorical(y_label_test)"
   ]
  },
  {
   "cell_type": "code",
   "execution_count": 6,
   "metadata": {},
   "outputs": [
    {
     "data": {
      "text/plain": [
       "(10000, 10)"
      ]
     },
     "execution_count": 6,
     "metadata": {},
     "output_type": "execute_result"
    }
   ],
   "source": [
    "y_label_test_OneHot.shape"
   ]
  },
  {
   "cell_type": "markdown",
   "metadata": {},
   "source": [
    "# 建立模型"
   ]
  },
  {
   "cell_type": "code",
   "execution_count": 7,
   "metadata": {},
   "outputs": [],
   "source": [
    "from keras.models import Sequential\n",
    "from keras.layers import Dense, Dropout, Activation, Flatten\n",
    "from keras.layers import Conv2D, MaxPooling2D, ZeroPadding2D\n",
    "\n",
    "# For tensorflow.keras\n",
    "#from tensorflow.keras.models import Sequential\n",
    "#from tensorflow.keras.layers import Dense, Dropout, Activation, Flatten\n",
    "#from tensorflow.keras.layers import Conv2D, MaxPooling2D, ZeroPadding2D"
   ]
  },
  {
   "cell_type": "code",
   "execution_count": 8,
   "metadata": {},
   "outputs": [],
   "source": [
    "model = Sequential()"
   ]
  },
  {
   "cell_type": "code",
   "execution_count": 9,
   "metadata": {},
   "outputs": [],
   "source": [
    "#卷積層1"
   ]
  },
  {
   "cell_type": "code",
   "execution_count": 10,
   "metadata": {},
   "outputs": [],
   "source": [
    "model.add(Conv2D(filters=32,kernel_size=(3,3),\n",
    "                 input_shape=(32, 32,3), \n",
    "                 activation='relu', \n",
    "                 padding='same'))"
   ]
  },
  {
   "cell_type": "code",
   "execution_count": 11,
   "metadata": {},
   "outputs": [],
   "source": [
    "model.add(Dropout(rate=0.25))"
   ]
  },
  {
   "cell_type": "code",
   "execution_count": 12,
   "metadata": {},
   "outputs": [],
   "source": [
    "model.add(MaxPooling2D(pool_size=(2, 2)))"
   ]
  },
  {
   "cell_type": "code",
   "execution_count": 13,
   "metadata": {},
   "outputs": [],
   "source": [
    "#卷積層2與池化層2"
   ]
  },
  {
   "cell_type": "code",
   "execution_count": 14,
   "metadata": {},
   "outputs": [],
   "source": [
    "model.add(Conv2D(filters=64, kernel_size=(3, 3), \n",
    "                 activation='relu', padding='same'))"
   ]
  },
  {
   "cell_type": "code",
   "execution_count": 15,
   "metadata": {},
   "outputs": [],
   "source": [
    "model.add(Dropout(0.25))"
   ]
  },
  {
   "cell_type": "code",
   "execution_count": 16,
   "metadata": {},
   "outputs": [],
   "source": [
    "model.add(MaxPooling2D(pool_size=(2, 2)))"
   ]
  },
  {
   "cell_type": "code",
   "execution_count": 17,
   "metadata": {},
   "outputs": [],
   "source": [
    "#Step3\t建立神經網路(平坦層、隱藏層、輸出層)"
   ]
  },
  {
   "cell_type": "code",
   "execution_count": 18,
   "metadata": {},
   "outputs": [],
   "source": [
    "model.add(Flatten())\n",
    "model.add(Dropout(rate=0.25))"
   ]
  },
  {
   "cell_type": "code",
   "execution_count": 19,
   "metadata": {},
   "outputs": [],
   "source": [
    "model.add(Dense(1024, activation='relu'))\n",
    "model.add(Dropout(rate=0.25))"
   ]
  },
  {
   "cell_type": "code",
   "execution_count": 20,
   "metadata": {},
   "outputs": [],
   "source": [
    "model.add(Dense(10, activation='softmax'))"
   ]
  },
  {
   "cell_type": "code",
   "execution_count": 21,
   "metadata": {},
   "outputs": [
    {
     "name": "stdout",
     "output_type": "stream",
     "text": [
      "Model: \"sequential_1\"\n",
      "_________________________________________________________________\n",
      "Layer (type)                 Output Shape              Param #   \n",
      "=================================================================\n",
      "conv2d_1 (Conv2D)            (None, 32, 32, 32)        896       \n",
      "_________________________________________________________________\n",
      "dropout_1 (Dropout)          (None, 32, 32, 32)        0         \n",
      "_________________________________________________________________\n",
      "max_pooling2d_1 (MaxPooling2 (None, 16, 16, 32)        0         \n",
      "_________________________________________________________________\n",
      "conv2d_2 (Conv2D)            (None, 16, 16, 64)        18496     \n",
      "_________________________________________________________________\n",
      "dropout_2 (Dropout)          (None, 16, 16, 64)        0         \n",
      "_________________________________________________________________\n",
      "max_pooling2d_2 (MaxPooling2 (None, 8, 8, 64)          0         \n",
      "_________________________________________________________________\n",
      "flatten_1 (Flatten)          (None, 4096)              0         \n",
      "_________________________________________________________________\n",
      "dropout_3 (Dropout)          (None, 4096)              0         \n",
      "_________________________________________________________________\n",
      "dense_1 (Dense)              (None, 1024)              4195328   \n",
      "_________________________________________________________________\n",
      "dropout_4 (Dropout)          (None, 1024)              0         \n",
      "_________________________________________________________________\n",
      "dense_2 (Dense)              (None, 10)                10250     \n",
      "=================================================================\n",
      "Total params: 4,224,970\n",
      "Trainable params: 4,224,970\n",
      "Non-trainable params: 0\n",
      "_________________________________________________________________\n",
      "None\n"
     ]
    }
   ],
   "source": [
    "print(model.summary())"
   ]
  },
  {
   "cell_type": "markdown",
   "metadata": {},
   "source": [
    "# 載入之前訓練的模型"
   ]
  },
  {
   "cell_type": "code",
   "execution_count": 22,
   "metadata": {},
   "outputs": [
    {
     "name": "stdout",
     "output_type": "stream",
     "text": [
      "載入模型失敗!開始訓練一個新模型\n"
     ]
    }
   ],
   "source": [
    "try:\n",
    "    model.load_weights(\"SaveModel/cifarCnnModel.h5\")\n",
    "    print(\"載入模型成功!繼續訓練模型\")\n",
    "except :    \n",
    "    print(\"載入模型失敗!開始訓練一個新模型\")"
   ]
  },
  {
   "cell_type": "markdown",
   "metadata": {},
   "source": [
    "# 訓練模型"
   ]
  },
  {
   "cell_type": "code",
   "execution_count": 23,
   "metadata": {},
   "outputs": [],
   "source": [
    "model.compile(loss='categorical_crossentropy',\n",
    "              optimizer='adam', metrics=['accuracy'])"
   ]
  },
  {
   "cell_type": "code",
   "execution_count": 24,
   "metadata": {
    "scrolled": false
   },
   "outputs": [
    {
     "name": "stdout",
     "output_type": "stream",
     "text": [
      "Train on 40000 samples, validate on 10000 samples\n",
      "Epoch 1/100\n",
      "40000/40000 [==============================] - 4s 102us/step - loss: 1.5167 - accuracy: 0.4516 - val_loss: 1.2947 - val_accuracy: 0.5794\n",
      "Epoch 2/100\n",
      "40000/40000 [==============================] - 3s 75us/step - loss: 1.1550 - accuracy: 0.5869 - val_loss: 1.1314 - val_accuracy: 0.6351\n",
      "Epoch 3/100\n",
      "40000/40000 [==============================] - 3s 72us/step - loss: 1.0002 - accuracy: 0.6476 - val_loss: 1.0318 - val_accuracy: 0.6615\n",
      "Epoch 4/100\n",
      "40000/40000 [==============================] - 3s 67us/step - loss: 0.8959 - accuracy: 0.6866 - val_loss: 0.9512 - val_accuracy: 0.6945\n",
      "Epoch 5/100\n",
      "40000/40000 [==============================] - 3s 73us/step - loss: 0.8057 - accuracy: 0.7162 - val_loss: 0.8905 - val_accuracy: 0.7122\n",
      "Epoch 6/100\n",
      "40000/40000 [==============================] - 3s 79us/step - loss: 0.7227 - accuracy: 0.7451 - val_loss: 0.8290 - val_accuracy: 0.7280\n",
      "Epoch 7/100\n",
      "40000/40000 [==============================] - 3s 78us/step - loss: 0.6442 - accuracy: 0.7740 - val_loss: 0.8205 - val_accuracy: 0.7234\n",
      "Epoch 8/100\n",
      "40000/40000 [==============================] - 3s 68us/step - loss: 0.5707 - accuracy: 0.7996 - val_loss: 0.7825 - val_accuracy: 0.7342\n",
      "Epoch 9/100\n",
      "40000/40000 [==============================] - 3s 69us/step - loss: 0.5034 - accuracy: 0.8248 - val_loss: 0.7883 - val_accuracy: 0.7269\n",
      "Epoch 10/100\n",
      "40000/40000 [==============================] - 3s 73us/step - loss: 0.4411 - accuracy: 0.8460 - val_loss: 0.8407 - val_accuracy: 0.7087\n",
      "Epoch 11/100\n",
      "40000/40000 [==============================] - 3s 67us/step - loss: 0.3967 - accuracy: 0.8625 - val_loss: 0.7749 - val_accuracy: 0.7325\n",
      "Epoch 12/100\n",
      "40000/40000 [==============================] - 3s 77us/step - loss: 0.3519 - accuracy: 0.8776 - val_loss: 0.7583 - val_accuracy: 0.7402\n",
      "Epoch 13/100\n",
      "40000/40000 [==============================] - 3s 68us/step - loss: 0.3092 - accuracy: 0.8916 - val_loss: 0.7695 - val_accuracy: 0.7406\n",
      "Epoch 14/100\n",
      "40000/40000 [==============================] - 3s 72us/step - loss: 0.2815 - accuracy: 0.9032 - val_loss: 0.7820 - val_accuracy: 0.7368\n",
      "Epoch 15/100\n",
      "40000/40000 [==============================] - 3s 75us/step - loss: 0.2487 - accuracy: 0.9136 - val_loss: 0.7646 - val_accuracy: 0.7448\n",
      "Epoch 16/100\n",
      "40000/40000 [==============================] - 3s 70us/step - loss: 0.2250 - accuracy: 0.9209 - val_loss: 0.7860 - val_accuracy: 0.7397\n",
      "Epoch 17/100\n",
      "40000/40000 [==============================] - 3s 76us/step - loss: 0.2134 - accuracy: 0.9281 - val_loss: 0.8098 - val_accuracy: 0.7325\n",
      "Epoch 18/100\n",
      "40000/40000 [==============================] - 3s 75us/step - loss: 0.1897 - accuracy: 0.9338 - val_loss: 0.8106 - val_accuracy: 0.7376\n",
      "Epoch 19/100\n",
      "40000/40000 [==============================] - 3s 71us/step - loss: 0.1743 - accuracy: 0.9402 - val_loss: 0.8142 - val_accuracy: 0.7416\n",
      "Epoch 20/100\n",
      "40000/40000 [==============================] - 3s 71us/step - loss: 0.1704 - accuracy: 0.9403 - val_loss: 0.7939 - val_accuracy: 0.7434\n",
      "Epoch 21/100\n",
      "40000/40000 [==============================] - 3s 73us/step - loss: 0.1515 - accuracy: 0.9478 - val_loss: 0.8107 - val_accuracy: 0.7458\n",
      "Epoch 22/100\n",
      "40000/40000 [==============================] - 3s 79us/step - loss: 0.1481 - accuracy: 0.9488 - val_loss: 0.8360 - val_accuracy: 0.7451\n",
      "Epoch 23/100\n",
      "40000/40000 [==============================] - 3s 75us/step - loss: 0.1405 - accuracy: 0.9513 - val_loss: 0.8527 - val_accuracy: 0.7422\n",
      "Epoch 24/100\n",
      "40000/40000 [==============================] - 3s 71us/step - loss: 0.1383 - accuracy: 0.9535 - val_loss: 0.8528 - val_accuracy: 0.7449\n",
      "Epoch 25/100\n",
      "40000/40000 [==============================] - 3s 73us/step - loss: 0.1320 - accuracy: 0.9551 - val_loss: 0.8641 - val_accuracy: 0.7408\n",
      "Epoch 26/100\n",
      "40000/40000 [==============================] - 3s 77us/step - loss: 0.1259 - accuracy: 0.9567 - val_loss: 0.8644 - val_accuracy: 0.7486\n",
      "Epoch 27/100\n",
      "40000/40000 [==============================] - 3s 67us/step - loss: 0.1254 - accuracy: 0.9568 - val_loss: 0.8898 - val_accuracy: 0.7421\n",
      "Epoch 28/100\n",
      "40000/40000 [==============================] - 3s 70us/step - loss: 0.1152 - accuracy: 0.9602 - val_loss: 0.8879 - val_accuracy: 0.7489\n",
      "Epoch 29/100\n",
      "40000/40000 [==============================] - 3s 72us/step - loss: 0.1107 - accuracy: 0.9628 - val_loss: 0.9343 - val_accuracy: 0.7343\n",
      "Epoch 30/100\n",
      "40000/40000 [==============================] - 3s 72us/step - loss: 0.1111 - accuracy: 0.9616 - val_loss: 0.8893 - val_accuracy: 0.7468\n",
      "Epoch 31/100\n",
      "40000/40000 [==============================] - 3s 72us/step - loss: 0.1148 - accuracy: 0.9607 - val_loss: 0.8931 - val_accuracy: 0.7432\n",
      "Epoch 32/100\n",
      "40000/40000 [==============================] - 3s 67us/step - loss: 0.1039 - accuracy: 0.9650 - val_loss: 0.9336 - val_accuracy: 0.7390\n",
      "Epoch 33/100\n",
      "40000/40000 [==============================] - 3s 76us/step - loss: 0.1081 - accuracy: 0.9636 - val_loss: 0.9010 - val_accuracy: 0.7424\n",
      "Epoch 34/100\n",
      "40000/40000 [==============================] - 3s 75us/step - loss: 0.0943 - accuracy: 0.9683 - val_loss: 0.9149 - val_accuracy: 0.7457\n",
      "Epoch 35/100\n",
      "40000/40000 [==============================] - 3s 77us/step - loss: 0.0962 - accuracy: 0.9680 - val_loss: 0.9248 - val_accuracy: 0.7413\n",
      "Epoch 36/100\n",
      "40000/40000 [==============================] - 3s 77us/step - loss: 0.1032 - accuracy: 0.9656 - val_loss: 0.9324 - val_accuracy: 0.7417\n",
      "Epoch 37/100\n",
      "40000/40000 [==============================] - 3s 76us/step - loss: 0.0942 - accuracy: 0.9688 - val_loss: 0.9263 - val_accuracy: 0.7415\n",
      "Epoch 38/100\n",
      "40000/40000 [==============================] - 3s 75us/step - loss: 0.0987 - accuracy: 0.9675 - val_loss: 0.9682 - val_accuracy: 0.7355\n",
      "Epoch 39/100\n",
      "40000/40000 [==============================] - 3s 74us/step - loss: 0.0890 - accuracy: 0.9703 - val_loss: 0.9176 - val_accuracy: 0.7455\n",
      "Epoch 40/100\n",
      "40000/40000 [==============================] - 3s 75us/step - loss: 0.0861 - accuracy: 0.9707 - val_loss: 0.9448 - val_accuracy: 0.7444\n",
      "Epoch 41/100\n",
      "40000/40000 [==============================] - 3s 68us/step - loss: 0.0937 - accuracy: 0.9695 - val_loss: 0.9610 - val_accuracy: 0.7352\n",
      "Epoch 42/100\n",
      "40000/40000 [==============================] - 3s 68us/step - loss: 0.0837 - accuracy: 0.9725 - val_loss: 0.9752 - val_accuracy: 0.7428\n",
      "Epoch 43/100\n",
      "40000/40000 [==============================] - 3s 69us/step - loss: 0.0856 - accuracy: 0.9712 - val_loss: 0.9818 - val_accuracy: 0.7422\n",
      "Epoch 44/100\n",
      "40000/40000 [==============================] - 3s 71us/step - loss: 0.0864 - accuracy: 0.9710 - val_loss: 0.9808 - val_accuracy: 0.7422\n",
      "Epoch 45/100\n",
      "40000/40000 [==============================] - 3s 79us/step - loss: 0.0826 - accuracy: 0.9737 - val_loss: 1.0646 - val_accuracy: 0.7310\n",
      "Epoch 46/100\n",
      "40000/40000 [==============================] - 3s 73us/step - loss: 0.0854 - accuracy: 0.9719 - val_loss: 0.9879 - val_accuracy: 0.7368\n",
      "Epoch 47/100\n",
      "40000/40000 [==============================] - 3s 76us/step - loss: 0.0832 - accuracy: 0.9722 - val_loss: 0.9840 - val_accuracy: 0.7464\n",
      "Epoch 48/100\n",
      "40000/40000 [==============================] - 3s 75us/step - loss: 0.0792 - accuracy: 0.9742 - val_loss: 1.0204 - val_accuracy: 0.7428\n",
      "Epoch 49/100\n",
      "40000/40000 [==============================] - 3s 73us/step - loss: 0.0880 - accuracy: 0.9703 - val_loss: 1.0532 - val_accuracy: 0.7369\n",
      "Epoch 50/100\n",
      "40000/40000 [==============================] - 3s 71us/step - loss: 0.0774 - accuracy: 0.9741 - val_loss: 1.0212 - val_accuracy: 0.7448\n",
      "Epoch 51/100\n",
      "40000/40000 [==============================] - 3s 70us/step - loss: 0.0864 - accuracy: 0.9711 - val_loss: 1.0612 - val_accuracy: 0.7342\n",
      "Epoch 52/100\n",
      "40000/40000 [==============================] - 3s 75us/step - loss: 0.0770 - accuracy: 0.9748 - val_loss: 1.0373 - val_accuracy: 0.7426\n",
      "Epoch 53/100\n",
      "40000/40000 [==============================] - 3s 73us/step - loss: 0.0779 - accuracy: 0.9736 - val_loss: 1.0457 - val_accuracy: 0.7385\n",
      "Epoch 54/100\n",
      "40000/40000 [==============================] - 3s 68us/step - loss: 0.0711 - accuracy: 0.9767 - val_loss: 1.0017 - val_accuracy: 0.7449\n",
      "Epoch 55/100\n",
      "40000/40000 [==============================] - 3s 68us/step - loss: 0.0787 - accuracy: 0.9748 - val_loss: 1.0283 - val_accuracy: 0.7421\n"
     ]
    },
    {
     "name": "stdout",
     "output_type": "stream",
     "text": [
      "Epoch 56/100\n",
      "40000/40000 [==============================] - 3s 77us/step - loss: 0.0708 - accuracy: 0.9769 - val_loss: 1.0725 - val_accuracy: 0.7380\n",
      "Epoch 57/100\n",
      "40000/40000 [==============================] - 3s 76us/step - loss: 0.0780 - accuracy: 0.9746 - val_loss: 1.0518 - val_accuracy: 0.7356\n",
      "Epoch 58/100\n",
      "40000/40000 [==============================] - 3s 72us/step - loss: 0.0726 - accuracy: 0.9759 - val_loss: 1.0571 - val_accuracy: 0.7462\n",
      "Epoch 59/100\n",
      "40000/40000 [==============================] - 3s 70us/step - loss: 0.0675 - accuracy: 0.9774 - val_loss: 1.0447 - val_accuracy: 0.7405\n",
      "Epoch 60/100\n",
      "40000/40000 [==============================] - 3s 68us/step - loss: 0.0764 - accuracy: 0.9746 - val_loss: 1.0610 - val_accuracy: 0.7427\n",
      "Epoch 61/100\n",
      "40000/40000 [==============================] - 3s 76us/step - loss: 0.0694 - accuracy: 0.9770 - val_loss: 1.0882 - val_accuracy: 0.7403\n",
      "Epoch 62/100\n",
      "40000/40000 [==============================] - 3s 71us/step - loss: 0.0742 - accuracy: 0.9766 - val_loss: 1.0737 - val_accuracy: 0.7374\n",
      "Epoch 63/100\n",
      "40000/40000 [==============================] - 3s 75us/step - loss: 0.0698 - accuracy: 0.9776 - val_loss: 1.1162 - val_accuracy: 0.7388\n",
      "Epoch 64/100\n",
      "40000/40000 [==============================] - 3s 70us/step - loss: 0.0716 - accuracy: 0.9763 - val_loss: 1.0757 - val_accuracy: 0.7437\n",
      "Epoch 65/100\n",
      "40000/40000 [==============================] - 3s 67us/step - loss: 0.0696 - accuracy: 0.9774 - val_loss: 1.1005 - val_accuracy: 0.7388\n",
      "Epoch 66/100\n",
      "40000/40000 [==============================] - 3s 69us/step - loss: 0.0713 - accuracy: 0.9765 - val_loss: 1.1172 - val_accuracy: 0.7453\n",
      "Epoch 67/100\n",
      "40000/40000 [==============================] - 3s 73us/step - loss: 0.0686 - accuracy: 0.9779 - val_loss: 1.0910 - val_accuracy: 0.7385\n",
      "Epoch 68/100\n",
      "40000/40000 [==============================] - 3s 70us/step - loss: 0.0713 - accuracy: 0.9765 - val_loss: 1.0832 - val_accuracy: 0.7396\n",
      "Epoch 69/100\n",
      "40000/40000 [==============================] - 3s 67us/step - loss: 0.0683 - accuracy: 0.9772 - val_loss: 1.0858 - val_accuracy: 0.7423\n",
      "Epoch 70/100\n",
      "40000/40000 [==============================] - 3s 74us/step - loss: 0.0688 - accuracy: 0.9794 - val_loss: 1.1126 - val_accuracy: 0.7498\n",
      "Epoch 71/100\n",
      "40000/40000 [==============================] - 3s 65us/step - loss: 0.0600 - accuracy: 0.9806 - val_loss: 1.1119 - val_accuracy: 0.7461\n",
      "Epoch 72/100\n",
      "40000/40000 [==============================] - 3s 71us/step - loss: 0.0596 - accuracy: 0.9806 - val_loss: 1.1296 - val_accuracy: 0.7423\n",
      "Epoch 73/100\n",
      "40000/40000 [==============================] - 3s 73us/step - loss: 0.0594 - accuracy: 0.9796 - val_loss: 1.1211 - val_accuracy: 0.7465\n",
      "Epoch 74/100\n",
      "40000/40000 [==============================] - 3s 69us/step - loss: 0.0657 - accuracy: 0.9785 - val_loss: 1.1584 - val_accuracy: 0.7450\n",
      "Epoch 75/100\n",
      "40000/40000 [==============================] - 3s 72us/step - loss: 0.0626 - accuracy: 0.9804 - val_loss: 1.1153 - val_accuracy: 0.7473\n",
      "Epoch 76/100\n",
      "40000/40000 [==============================] - 2s 62us/step - loss: 0.0675 - accuracy: 0.9788 - val_loss: 1.0836 - val_accuracy: 0.7487\n",
      "Epoch 77/100\n",
      "40000/40000 [==============================] - 3s 65us/step - loss: 0.0674 - accuracy: 0.9788 - val_loss: 1.1925 - val_accuracy: 0.7408\n",
      "Epoch 78/100\n",
      "40000/40000 [==============================] - 3s 71us/step - loss: 0.0621 - accuracy: 0.9791 - val_loss: 1.1541 - val_accuracy: 0.7417\n",
      "Epoch 79/100\n",
      "40000/40000 [==============================] - 3s 71us/step - loss: 0.0664 - accuracy: 0.9793 - val_loss: 1.1498 - val_accuracy: 0.7358\n",
      "Epoch 80/100\n",
      "40000/40000 [==============================] - 3s 68us/step - loss: 0.0642 - accuracy: 0.9804 - val_loss: 1.1487 - val_accuracy: 0.7394\n",
      "Epoch 81/100\n",
      "40000/40000 [==============================] - 3s 69us/step - loss: 0.0657 - accuracy: 0.9789 - val_loss: 1.1194 - val_accuracy: 0.7373\n",
      "Epoch 82/100\n",
      "40000/40000 [==============================] - 3s 65us/step - loss: 0.0587 - accuracy: 0.9811 - val_loss: 1.1657 - val_accuracy: 0.7432\n",
      "Epoch 83/100\n",
      "40000/40000 [==============================] - 3s 70us/step - loss: 0.0599 - accuracy: 0.9815 - val_loss: 1.1559 - val_accuracy: 0.7384\n",
      "Epoch 84/100\n",
      "40000/40000 [==============================] - 3s 70us/step - loss: 0.0621 - accuracy: 0.9810 - val_loss: 1.1317 - val_accuracy: 0.7391\n",
      "Epoch 85/100\n",
      "40000/40000 [==============================] - 3s 70us/step - loss: 0.0632 - accuracy: 0.9796 - val_loss: 1.2002 - val_accuracy: 0.7356\n",
      "Epoch 86/100\n",
      "40000/40000 [==============================] - 3s 72us/step - loss: 0.0618 - accuracy: 0.9796 - val_loss: 1.1559 - val_accuracy: 0.7399\n",
      "Epoch 87/100\n",
      "40000/40000 [==============================] - 3s 80us/step - loss: 0.0659 - accuracy: 0.9799 - val_loss: 1.2032 - val_accuracy: 0.7348\n",
      "Epoch 88/100\n",
      "40000/40000 [==============================] - 3s 71us/step - loss: 0.0583 - accuracy: 0.9827 - val_loss: 1.1999 - val_accuracy: 0.7365\n",
      "Epoch 89/100\n",
      "40000/40000 [==============================] - 3s 66us/step - loss: 0.0558 - accuracy: 0.9815 - val_loss: 1.1827 - val_accuracy: 0.7424\n",
      "Epoch 90/100\n",
      "40000/40000 [==============================] - 3s 69us/step - loss: 0.0585 - accuracy: 0.9825 - val_loss: 1.1820 - val_accuracy: 0.7415\n",
      "Epoch 91/100\n",
      "40000/40000 [==============================] - 3s 71us/step - loss: 0.0560 - accuracy: 0.9820 - val_loss: 1.2654 - val_accuracy: 0.7233\n",
      "Epoch 92/100\n",
      "40000/40000 [==============================] - 3s 72us/step - loss: 0.0622 - accuracy: 0.9822 - val_loss: 1.2177 - val_accuracy: 0.7391\n",
      "Epoch 93/100\n",
      "40000/40000 [==============================] - 3s 72us/step - loss: 0.0597 - accuracy: 0.9819 - val_loss: 1.1848 - val_accuracy: 0.7439\n",
      "Epoch 94/100\n",
      "40000/40000 [==============================] - 3s 63us/step - loss: 0.0590 - accuracy: 0.9813 - val_loss: 1.2053 - val_accuracy: 0.7318\n",
      "Epoch 95/100\n",
      "40000/40000 [==============================] - 3s 68us/step - loss: 0.0636 - accuracy: 0.9803 - val_loss: 1.2450 - val_accuracy: 0.7360\n",
      "Epoch 96/100\n",
      "40000/40000 [==============================] - 3s 66us/step - loss: 0.0526 - accuracy: 0.9843 - val_loss: 1.2334 - val_accuracy: 0.7412\n",
      "Epoch 97/100\n",
      "40000/40000 [==============================] - 3s 69us/step - loss: 0.0585 - accuracy: 0.9823 - val_loss: 1.2067 - val_accuracy: 0.7410\n",
      "Epoch 98/100\n",
      "40000/40000 [==============================] - 2s 62us/step - loss: 0.0516 - accuracy: 0.9840 - val_loss: 1.1911 - val_accuracy: 0.7476\n",
      "Epoch 99/100\n",
      "40000/40000 [==============================] - 3s 72us/step - loss: 0.0626 - accuracy: 0.9815 - val_loss: 1.2218 - val_accuracy: 0.7386\n",
      "Epoch 100/100\n",
      "40000/40000 [==============================] - 3s 73us/step - loss: 0.0602 - accuracy: 0.9807 - val_loss: 1.2313 - val_accuracy: 0.7460\n"
     ]
    }
   ],
   "source": [
    "train_history=model.fit(x_img_train_normalize, y_label_train_OneHot,\n",
    "                        validation_split=0.2,\n",
    "                        epochs=100, batch_size=128, verbose=1)          "
   ]
  },
  {
   "cell_type": "code",
   "execution_count": 25,
   "metadata": {},
   "outputs": [],
   "source": [
    "import matplotlib.pyplot as plt\n",
    "def show_train_history(train_acc,test_acc):\n",
    "    plt.plot(train_history.history[train_acc])\n",
    "    plt.plot(train_history.history[test_acc])\n",
    "    plt.title('Train History')\n",
    "    plt.ylabel('Accuracy')\n",
    "    plt.xlabel('Epoch')\n",
    "    plt.legend(['train', 'test'], loc='upper left')\n",
    "    plt.show()"
   ]
  },
  {
   "cell_type": "code",
   "execution_count": 26,
   "metadata": {},
   "outputs": [
    {
     "data": {
      "image/png": "[encoded data removed]",
      "text/plain": [
       "<Figure size 432x288 with 1 Axes>"
      ]
     },
     "metadata": {
      "needs_background": "light"
     },
     "output_type": "display_data"
    }
   ],
   "source": [
    "show_train_history('accuracy','val_accuracy')"
   ]
  },
  {
   "cell_type": "code",
   "execution_count": 27,
   "metadata": {},
   "outputs": [
    {
     "data": {
      "image/png": "[encoded data removed]",
      "text/plain": [
       "<Figure size 432x288 with 1 Axes>"
      ]
     },
     "metadata": {
      "needs_background": "light"
     },
     "output_type": "display_data"
    }
   ],
   "source": [
    "show_train_history('loss','val_loss')"
   ]
  },
  {
   "cell_type": "markdown",
   "metadata": {},
   "source": [
    "# 評估模型準確率"
   ]
  },
  {
   "cell_type": "code",
   "execution_count": 28,
   "metadata": {},
   "outputs": [
    {
     "data": {
      "text/plain": [
       "0.7479000091552734"
      ]
     },
     "execution_count": 28,
     "metadata": {},
     "output_type": "execute_result"
    }
   ],
   "source": [
    "scores = model.evaluate(x_img_test_normalize, \n",
    "                        y_label_test_OneHot, verbose=0)\n",
    "scores[1]"
   ]
  },
  {
   "cell_type": "markdown",
   "metadata": {},
   "source": [
    "# 進行預測"
   ]
  },
  {
   "cell_type": "code",
   "execution_count": 29,
   "metadata": {},
   "outputs": [],
   "source": [
    "prediction=model.predict_classes(x_img_test_normalize)"
   ]
  },
  {
   "cell_type": "code",
   "execution_count": 30,
   "metadata": {},
   "outputs": [
    {
     "data": {
      "text/plain": [
       "array([3, 8, 8, 0, 6, 6, 1, 6, 3, 9])"
      ]
     },
     "execution_count": 30,
     "metadata": {},
     "output_type": "execute_result"
    }
   ],
   "source": [
    "prediction[:10]"
   ]
  },
  {
   "cell_type": "markdown",
   "metadata": {},
   "source": [
    "# 查看預測結果"
   ]
  },
  {
   "cell_type": "code",
   "execution_count": 31,
   "metadata": {},
   "outputs": [],
   "source": [
    "label_dict={0:\"airplane\",1:\"automobile\",2:\"bird\",3:\"cat\",4:\"deer\",\n",
    "            5:\"dog\",6:\"frog\",7:\"horse\",8:\"ship\",9:\"truck\"}"
   ]
  },
  {
   "cell_type": "code",
   "execution_count": 32,
   "metadata": {},
   "outputs": [],
   "source": [
    "import matplotlib.pyplot as plt\n",
    "def plot_images_labels_prediction(images,labels,prediction,\n",
    "                                  idx,num=10):\n",
    "    fig = plt.gcf()\n",
    "    fig.set_size_inches(12, 14)\n",
    "    if num>25: num=25 \n",
    "    for i in range(0, num):\n",
    "        ax=plt.subplot(5,5, 1+i)\n",
    "        ax.imshow(images[idx],cmap='binary')\n",
    "                \n",
    "        title=str(i)+','+label_dict[labels[i][0]]\n",
    "        if len(prediction)>0:\n",
    "            title+='=>'+label_dict[prediction[i]]\n",
    "            \n",
    "        ax.set_title(title,fontsize=10) \n",
    "        ax.set_xticks([]);ax.set_yticks([])        \n",
    "        idx+=1 \n",
    "    plt.show()"
   ]
  },
  {
   "cell_type": "code",
   "execution_count": 33,
   "metadata": {},
   "outputs": [
    {
     "data": {
      "image/png": "[encoded data removed]",
      "text/plain": [
       "<Figure size 864x1008 with 10 Axes>"
      ]
     },
     "metadata": {},
     "output_type": "display_data"
    }
   ],
   "source": [
    "plot_images_labels_prediction(x_img_test,y_label_test,\n",
    "                              prediction,0,10)"
   ]
  },
  {
   "cell_type": "markdown",
   "metadata": {},
   "source": [
    "# 查看預測機率"
   ]
  },
  {
   "cell_type": "code",
   "execution_count": 34,
   "metadata": {},
   "outputs": [],
   "source": [
    "Predicted_Probability=model.predict(x_img_test_normalize)"
   ]
  },
  {
   "cell_type": "code",
   "execution_count": 35,
   "metadata": {},
   "outputs": [],
   "source": [
    "def show_Predicted_Probability(y,prediction,\n",
    "                               x_img,Predicted_Probability,i):\n",
    "    print('label:',label_dict[y[i][0]],\n",
    "          'predict:',label_dict[prediction[i]])\n",
    "    plt.figure(figsize=(2,2))\n",
    "    plt.imshow(np.reshape(x_img_test[i],(32, 32,3)))\n",
    "    plt.show()\n",
    "    for j in range(10):\n",
    "        print(label_dict[j]+\n",
    "              ' Probability:%1.9f'%(Predicted_Probability[i][j]))"
   ]
  },
  {
   "cell_type": "code",
   "execution_count": 36,
   "metadata": {},
   "outputs": [
    {
     "name": "stdout",
     "output_type": "stream",
     "text": [
      "label: cat predict: cat\n"
     ]
    },
    {
     "data": {
      "image/png": "[encoded data removed]",
      "text/plain": [
       "<Figure size 144x144 with 1 Axes>"
      ]
     },
     "metadata": {
      "needs_background": "light"
     },
     "output_type": "display_data"
    },
    {
     "name": "stdout",
     "output_type": "stream",
     "text": [
      "airplane Probability:0.000001410\n",
      "automobile Probability:0.000005631\n",
      "bird Probability:0.001304746\n",
      "cat Probability:0.549110889\n",
      "deer Probability:0.000004764\n",
      "dog Probability:0.447993249\n",
      "frog Probability:0.001497202\n",
      "horse Probability:0.000081430\n",
      "ship Probability:0.000000426\n",
      "truck Probability:0.000000200\n"
     ]
    }
   ],
   "source": [
    "show_Predicted_Probability(y_label_test,prediction,\n",
    "                           x_img_test,Predicted_Probability,0)"
   ]
  },
  {
   "cell_type": "code",
   "execution_count": 37,
   "metadata": {},
   "outputs": [
    {
     "name": "stdout",
     "output_type": "stream",
     "text": [
      "label: airplane predict: airplane\n"
     ]
    },
    {
     "data": {
      "image/png": "[encoded data removed]",
      "text/plain": [
       "<Figure size 144x144 with 1 Axes>"
      ]
     },
     "metadata": {
      "needs_background": "light"
     },
     "output_type": "display_data"
    },
    {
     "name": "stdout",
     "output_type": "stream",
     "text": [
      "airplane Probability:0.982688129\n",
      "automobile Probability:0.000000023\n",
      "bird Probability:0.000063046\n",
      "cat Probability:0.000000019\n",
      "deer Probability:0.000000241\n",
      "dog Probability:0.000000000\n",
      "frog Probability:0.000000000\n",
      "horse Probability:0.000000001\n",
      "ship Probability:0.017248552\n",
      "truck Probability:0.000000074\n"
     ]
    }
   ],
   "source": [
    "show_Predicted_Probability(y_label_test,prediction,\n",
    "                           x_img_test,Predicted_Probability,3)"
   ]
  },
  {
   "cell_type": "markdown",
   "metadata": {},
   "source": [
    "# confusion matrix"
   ]
  },
  {
   "cell_type": "code",
   "execution_count": 38,
   "metadata": {},
   "outputs": [
    {
     "data": {
      "text/plain": [
       "(10000,)"
      ]
     },
     "execution_count": 38,
     "metadata": {},
     "output_type": "execute_result"
    }
   ],
   "source": [
    "prediction.shape"
   ]
  },
  {
   "cell_type": "code",
   "execution_count": 39,
   "metadata": {},
   "outputs": [
    {
     "data": {
      "text/plain": [
       "(10000, 1)"
      ]
     },
     "execution_count": 39,
     "metadata": {},
     "output_type": "execute_result"
    }
   ],
   "source": [
    "y_label_test.shape"
   ]
  },
  {
   "cell_type": "code",
   "execution_count": 40,
   "metadata": {},
   "outputs": [
    {
     "data": {
      "text/plain": [
       "array([[3],\n",
       "       [8],\n",
       "       [8],\n",
       "       ...,\n",
       "       [5],\n",
       "       [1],\n",
       "       [7]])"
      ]
     },
     "execution_count": 40,
     "metadata": {},
     "output_type": "execute_result"
    }
   ],
   "source": [
    "y_label_test"
   ]
  },
  {
   "cell_type": "code",
   "execution_count": 41,
   "metadata": {},
   "outputs": [
    {
     "data": {
      "text/plain": [
       "array([3, 8, 8, ..., 5, 1, 7])"
      ]
     },
     "execution_count": 41,
     "metadata": {},
     "output_type": "execute_result"
    }
   ],
   "source": [
    "y_label_test.reshape(-1)"
   ]
  },
  {
   "cell_type": "code",
   "execution_count": 42,
   "metadata": {},
   "outputs": [
    {
     "name": "stdout",
     "output_type": "stream",
     "text": [
      "{0: 'airplane', 1: 'automobile', 2: 'bird', 3: 'cat', 4: 'deer', 5: 'dog', 6: 'frog', 7: 'horse', 8: 'ship', 9: 'truck'}\n"
     ]
    },
    {
     "data": {
      "text/html": [
       "<div>\n",
       "<style scoped>\n",
       "    .dataframe tbody tr th:only-of-type {\n",
       "        vertical-align: middle;\n",
       "    }\n",
       "\n",
       "    .dataframe tbody tr th {\n",
       "        vertical-align: top;\n",
       "    }\n",
       "\n",
       "    .dataframe thead th {\n",
       "        text-align: right;\n",
       "    }\n",
       "</style>\n",
       "<table border=\"1\" class=\"dataframe\">\n",
       "  <thead>\n",
       "    <tr style=\"text-align: right;\">\n",
       "      <th>predict</th>\n",
       "      <th>0</th>\n",
       "      <th>1</th>\n",
       "      <th>2</th>\n",
       "      <th>3</th>\n",
       "      <th>4</th>\n",
       "      <th>5</th>\n",
       "      <th>6</th>\n",
       "      <th>7</th>\n",
       "      <th>8</th>\n",
       "      <th>9</th>\n",
       "    </tr>\n",
       "    <tr>\n",
       "      <th>label</th>\n",
       "      <th></th>\n",
       "      <th></th>\n",
       "      <th></th>\n",
       "      <th></th>\n",
       "      <th></th>\n",
       "      <th></th>\n",
       "      <th></th>\n",
       "      <th></th>\n",
       "      <th></th>\n",
       "      <th></th>\n",
       "    </tr>\n",
       "  </thead>\n",
       "  <tbody>\n",
       "    <tr>\n",
       "      <th>0</th>\n",
       "      <td>784</td>\n",
       "      <td>11</td>\n",
       "      <td>44</td>\n",
       "      <td>12</td>\n",
       "      <td>29</td>\n",
       "      <td>14</td>\n",
       "      <td>11</td>\n",
       "      <td>11</td>\n",
       "      <td>47</td>\n",
       "      <td>37</td>\n",
       "    </tr>\n",
       "    <tr>\n",
       "      <th>1</th>\n",
       "      <td>14</td>\n",
       "      <td>822</td>\n",
       "      <td>9</td>\n",
       "      <td>11</td>\n",
       "      <td>10</td>\n",
       "      <td>11</td>\n",
       "      <td>9</td>\n",
       "      <td>6</td>\n",
       "      <td>22</td>\n",
       "      <td>86</td>\n",
       "    </tr>\n",
       "    <tr>\n",
       "      <th>2</th>\n",
       "      <td>56</td>\n",
       "      <td>1</td>\n",
       "      <td>619</td>\n",
       "      <td>57</td>\n",
       "      <td>87</td>\n",
       "      <td>71</td>\n",
       "      <td>62</td>\n",
       "      <td>19</td>\n",
       "      <td>20</td>\n",
       "      <td>8</td>\n",
       "    </tr>\n",
       "    <tr>\n",
       "      <th>3</th>\n",
       "      <td>18</td>\n",
       "      <td>10</td>\n",
       "      <td>55</td>\n",
       "      <td>531</td>\n",
       "      <td>77</td>\n",
       "      <td>181</td>\n",
       "      <td>72</td>\n",
       "      <td>31</td>\n",
       "      <td>15</td>\n",
       "      <td>10</td>\n",
       "    </tr>\n",
       "    <tr>\n",
       "      <th>4</th>\n",
       "      <td>12</td>\n",
       "      <td>2</td>\n",
       "      <td>52</td>\n",
       "      <td>55</td>\n",
       "      <td>764</td>\n",
       "      <td>32</td>\n",
       "      <td>41</td>\n",
       "      <td>30</td>\n",
       "      <td>10</td>\n",
       "      <td>2</td>\n",
       "    </tr>\n",
       "    <tr>\n",
       "      <th>5</th>\n",
       "      <td>14</td>\n",
       "      <td>4</td>\n",
       "      <td>42</td>\n",
       "      <td>161</td>\n",
       "      <td>55</td>\n",
       "      <td>659</td>\n",
       "      <td>25</td>\n",
       "      <td>28</td>\n",
       "      <td>5</td>\n",
       "      <td>7</td>\n",
       "    </tr>\n",
       "    <tr>\n",
       "      <th>6</th>\n",
       "      <td>3</td>\n",
       "      <td>4</td>\n",
       "      <td>32</td>\n",
       "      <td>42</td>\n",
       "      <td>35</td>\n",
       "      <td>28</td>\n",
       "      <td>843</td>\n",
       "      <td>1</td>\n",
       "      <td>5</td>\n",
       "      <td>7</td>\n",
       "    </tr>\n",
       "    <tr>\n",
       "      <th>7</th>\n",
       "      <td>10</td>\n",
       "      <td>0</td>\n",
       "      <td>20</td>\n",
       "      <td>26</td>\n",
       "      <td>66</td>\n",
       "      <td>66</td>\n",
       "      <td>10</td>\n",
       "      <td>785</td>\n",
       "      <td>1</td>\n",
       "      <td>16</td>\n",
       "    </tr>\n",
       "    <tr>\n",
       "      <th>8</th>\n",
       "      <td>45</td>\n",
       "      <td>28</td>\n",
       "      <td>17</td>\n",
       "      <td>14</td>\n",
       "      <td>9</td>\n",
       "      <td>7</td>\n",
       "      <td>9</td>\n",
       "      <td>10</td>\n",
       "      <td>841</td>\n",
       "      <td>20</td>\n",
       "    </tr>\n",
       "    <tr>\n",
       "      <th>9</th>\n",
       "      <td>31</td>\n",
       "      <td>56</td>\n",
       "      <td>7</td>\n",
       "      <td>18</td>\n",
       "      <td>3</td>\n",
       "      <td>13</td>\n",
       "      <td>5</td>\n",
       "      <td>14</td>\n",
       "      <td>22</td>\n",
       "      <td>831</td>\n",
       "    </tr>\n",
       "  </tbody>\n",
       "</table>\n",
       "</div>"
      ],
      "text/plain": [
       "predict    0    1    2    3    4    5    6    7    8    9\n",
       "label                                                    \n",
       "0        784   11   44   12   29   14   11   11   47   37\n",
       "1         14  822    9   11   10   11    9    6   22   86\n",
       "2         56    1  619   57   87   71   62   19   20    8\n",
       "3         18   10   55  531   77  181   72   31   15   10\n",
       "4         12    2   52   55  764   32   41   30   10    2\n",
       "5         14    4   42  161   55  659   25   28    5    7\n",
       "6          3    4   32   42   35   28  843    1    5    7\n",
       "7         10    0   20   26   66   66   10  785    1   16\n",
       "8         45   28   17   14    9    7    9   10  841   20\n",
       "9         31   56    7   18    3   13    5   14   22  831"
      ]
     },
     "execution_count": 42,
     "metadata": {},
     "output_type": "execute_result"
    }
   ],
   "source": [
    "import pandas as pd\n",
    "print(label_dict)\n",
    "pd.crosstab(y_label_test.reshape(-1),prediction,\n",
    "            rownames=['label'],colnames=['predict'])"
   ]
  },
  {
   "cell_type": "code",
   "execution_count": 43,
   "metadata": {},
   "outputs": [
    {
     "name": "stdout",
     "output_type": "stream",
     "text": [
      "{0: 'airplane', 1: 'automobile', 2: 'bird', 3: 'cat', 4: 'deer', 5: 'dog', 6: 'frog', 7: 'horse', 8: 'ship', 9: 'truck'}\n"
     ]
    }
   ],
   "source": [
    "print(label_dict)"
   ]
  },
  {
   "cell_type": "markdown",
   "metadata": {},
   "source": [
    "# Save Weight to h5 "
   ]
  },
  {
   "cell_type": "code",
   "execution_count": 44,
   "metadata": {},
   "outputs": [
    {
     "name": "stdout",
     "output_type": "stream",
     "text": [
      "Saved model to disk\n"
     ]
    }
   ],
   "source": [
    "model.save_weights(\"SaveModel/cifarCnnModel.h5\")\n",
    "print(\"Saved model to disk\")"
   ]
  },
  {
   "cell_type": "code",
   "execution_count": null,
   "metadata": {},
   "outputs": [],
   "source": []
  }
 ],
 "metadata": {
  "anaconda-cloud": {},
  "kernelspec": {
   "display_name": "Python 3",
   "language": "python",
   "name": "python3"
  },
  "language_info": {
   "codemirror_mode": {
    "name": "ipython",
    "version": 3
   },
   "file_extension": ".py",
   "mimetype": "text/x-python",
   "name": "python",
   "nbconvert_exporter": "python",
   "pygments_lexer": "ipython3",
   "version": "3.6.13"
  }
 },
 "nbformat": 4,
 "nbformat_minor": 1
}
