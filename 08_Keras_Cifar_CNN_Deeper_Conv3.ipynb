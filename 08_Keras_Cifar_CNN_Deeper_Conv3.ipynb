{
 "cells": [
  {
   "cell_type": "markdown",
   "metadata": {},
   "source": [
    "# 1. Import Library"
   ]
  },
  {
   "cell_type": "code",
   "execution_count": 1,
   "metadata": {},
   "outputs": [
    {
     "name": "stderr",
     "output_type": "stream",
     "text": [
      "Using TensorFlow backend.\n"
     ]
    }
   ],
   "source": [
    "# Simple CNN model for the CIFAR-10 Dataset\n",
    "import numpy\n",
    "\n",
    "from keras.datasets import cifar10\n",
    "\n",
    "# For tensorflow.keras\n",
    "#from tensorflow.keras.datasets import cifar10\n",
    "\n",
    "import numpy as np\n",
    "np.random.seed(10)"
   ]
  },
  {
   "cell_type": "markdown",
   "metadata": {},
   "source": [
    "# 資料準備"
   ]
  },
  {
   "cell_type": "code",
   "execution_count": 2,
   "metadata": {},
   "outputs": [],
   "source": [
    "(X_img_train, y_label_train), (X_img_test, y_label_test) = cifar10.load_data()"
   ]
  },
  {
   "cell_type": "code",
   "execution_count": 3,
   "metadata": {},
   "outputs": [
    {
     "name": "stdout",
     "output_type": "stream",
     "text": [
      "train data: images: (50000, 32, 32, 3)  labels: (50000, 1)\n",
      "test  data: images: (10000, 32, 32, 3)  labels: (10000, 1)\n"
     ]
    }
   ],
   "source": [
    "print(\"train data:\",'images:',X_img_train.shape,\" labels:\",y_label_train.shape) \n",
    "print(\"test  data:\",'images:',X_img_test.shape ,\" labels:\",y_label_test.shape) "
   ]
  },
  {
   "cell_type": "code",
   "execution_count": 4,
   "metadata": {},
   "outputs": [],
   "source": [
    "X_img_train_normalize = X_img_train.astype('float32') / 255.0\n",
    "X_img_test_normalize = X_img_test.astype('float32') / 255.0"
   ]
  },
  {
   "cell_type": "code",
   "execution_count": 5,
   "metadata": {},
   "outputs": [],
   "source": [
    "from keras.utils import np_utils\n",
    "y_label_train_OneHot = np_utils.to_categorical(y_label_train)\n",
    "y_label_test_OneHot = np_utils.to_categorical(y_label_test)\n",
    "\n",
    "# For tensorflow.keras\n",
    "#from tensorflow.keras.utils import to_categorical\n",
    "#y_label_train_OneHot = to_categorical(y_label_train)\n",
    "#y_label_test_OneHot = to_categorical(y_label_test)"
   ]
  },
  {
   "cell_type": "code",
   "execution_count": 6,
   "metadata": {},
   "outputs": [
    {
     "data": {
      "text/plain": [
       "(10000, 10)"
      ]
     },
     "execution_count": 6,
     "metadata": {},
     "output_type": "execute_result"
    }
   ],
   "source": [
    "y_label_test_OneHot.shape"
   ]
  },
  {
   "cell_type": "markdown",
   "metadata": {},
   "source": [
    "# 建立模型"
   ]
  },
  {
   "cell_type": "code",
   "execution_count": 7,
   "metadata": {},
   "outputs": [],
   "source": [
    "from keras.models import Sequential\n",
    "from keras.layers import Dense, Dropout, Activation, Flatten\n",
    "from keras.layers import Conv2D, MaxPooling2D, ZeroPadding2D\n",
    "\n",
    "# For tensorflow.keras\n",
    "#from tensorflow.keras.models import Sequential\n",
    "#from tensorflow.keras.layers import Dense, Dropout, Activation, Flatten\n",
    "#from tensorflow.keras.layers import Conv2D, MaxPooling2D, ZeroPadding2D"
   ]
  },
  {
   "cell_type": "code",
   "execution_count": 8,
   "metadata": {},
   "outputs": [],
   "source": [
    "model = Sequential()"
   ]
  },
  {
   "cell_type": "code",
   "execution_count": 9,
   "metadata": {},
   "outputs": [],
   "source": [
    "#卷積層1與池化層1"
   ]
  },
  {
   "cell_type": "code",
   "execution_count": 10,
   "metadata": {},
   "outputs": [],
   "source": [
    "model.add(Conv2D(filters=32,kernel_size=(3, 3),input_shape=(32, 32,3),\n",
    "                 activation='relu', padding='same'))\n",
    "model.add(Dropout(0.3))\n",
    "model.add(Conv2D(filters=32, kernel_size=(3, 3),\n",
    "                 activation='relu', padding='same'))\n",
    "model.add(MaxPooling2D(pool_size=(2, 2)))"
   ]
  },
  {
   "cell_type": "code",
   "execution_count": 11,
   "metadata": {},
   "outputs": [],
   "source": [
    "#卷積層2與池化層2"
   ]
  },
  {
   "cell_type": "code",
   "execution_count": 12,
   "metadata": {},
   "outputs": [],
   "source": [
    "model.add(Conv2D(filters=64, kernel_size=(3, 3),\n",
    "                 activation='relu', padding='same'))\n",
    "model.add(Dropout(0.3))\n",
    "model.add(Conv2D(filters=64, kernel_size=(3, 3), \n",
    "                 activation='relu', padding='same'))\n",
    "model.add(MaxPooling2D(pool_size=(2, 2)))"
   ]
  },
  {
   "cell_type": "code",
   "execution_count": 13,
   "metadata": {},
   "outputs": [],
   "source": [
    "#卷積層3與池化層3"
   ]
  },
  {
   "cell_type": "code",
   "execution_count": 14,
   "metadata": {},
   "outputs": [],
   "source": [
    "model.add(Conv2D(filters=128, kernel_size=(3, 3), \n",
    "                 activation='relu', padding='same'))\n",
    "model.add(Dropout(0.3))\n",
    "model.add(Conv2D(filters=128, kernel_size=(3, 3), \n",
    "                 activation='relu', padding='same'))\n",
    "model.add(MaxPooling2D(pool_size=(2, 2)))"
   ]
  },
  {
   "cell_type": "code",
   "execution_count": 15,
   "metadata": {},
   "outputs": [],
   "source": [
    "#建立神經網路(平坦層、隱藏層、輸出層)"
   ]
  },
  {
   "cell_type": "code",
   "execution_count": 16,
   "metadata": {},
   "outputs": [],
   "source": [
    "model.add(Flatten())\n",
    "model.add(Dropout(0.3))\n",
    "model.add(Dense(2500, activation='relu'))\n",
    "model.add(Dropout(0.3))\n",
    "model.add(Dense(1500, activation='relu'))\n",
    "model.add(Dropout(0.3))\n",
    "model.add(Dense(10, activation='softmax'))"
   ]
  },
  {
   "cell_type": "code",
   "execution_count": 17,
   "metadata": {},
   "outputs": [
    {
     "name": "stdout",
     "output_type": "stream",
     "text": [
      "Model: \"sequential_1\"\n",
      "_________________________________________________________________\n",
      "Layer (type)                 Output Shape              Param #   \n",
      "=================================================================\n",
      "conv2d_1 (Conv2D)            (None, 32, 32, 32)        896       \n",
      "_________________________________________________________________\n",
      "dropout_1 (Dropout)          (None, 32, 32, 32)        0         \n",
      "_________________________________________________________________\n",
      "conv2d_2 (Conv2D)            (None, 32, 32, 32)        9248      \n",
      "_________________________________________________________________\n",
      "max_pooling2d_1 (MaxPooling2 (None, 16, 16, 32)        0         \n",
      "_________________________________________________________________\n",
      "conv2d_3 (Conv2D)            (None, 16, 16, 64)        18496     \n",
      "_________________________________________________________________\n",
      "dropout_2 (Dropout)          (None, 16, 16, 64)        0         \n",
      "_________________________________________________________________\n",
      "conv2d_4 (Conv2D)            (None, 16, 16, 64)        36928     \n",
      "_________________________________________________________________\n",
      "max_pooling2d_2 (MaxPooling2 (None, 8, 8, 64)          0         \n",
      "_________________________________________________________________\n",
      "conv2d_5 (Conv2D)            (None, 8, 8, 128)         73856     \n",
      "_________________________________________________________________\n",
      "dropout_3 (Dropout)          (None, 8, 8, 128)         0         \n",
      "_________________________________________________________________\n",
      "conv2d_6 (Conv2D)            (None, 8, 8, 128)         147584    \n",
      "_________________________________________________________________\n",
      "max_pooling2d_3 (MaxPooling2 (None, 4, 4, 128)         0         \n",
      "_________________________________________________________________\n",
      "flatten_1 (Flatten)          (None, 2048)              0         \n",
      "_________________________________________________________________\n",
      "dropout_4 (Dropout)          (None, 2048)              0         \n",
      "_________________________________________________________________\n",
      "dense_1 (Dense)              (None, 2500)              5122500   \n",
      "_________________________________________________________________\n",
      "dropout_5 (Dropout)          (None, 2500)              0         \n",
      "_________________________________________________________________\n",
      "dense_2 (Dense)              (None, 1500)              3751500   \n",
      "_________________________________________________________________\n",
      "dropout_6 (Dropout)          (None, 1500)              0         \n",
      "_________________________________________________________________\n",
      "dense_3 (Dense)              (None, 10)                15010     \n",
      "=================================================================\n",
      "Total params: 9,176,018\n",
      "Trainable params: 9,176,018\n",
      "Non-trainable params: 0\n",
      "_________________________________________________________________\n",
      "None\n"
     ]
    }
   ],
   "source": [
    "print(model.summary())"
   ]
  },
  {
   "cell_type": "markdown",
   "metadata": {},
   "source": [
    "# 載入之前訓練的模型"
   ]
  },
  {
   "cell_type": "code",
   "execution_count": 18,
   "metadata": {},
   "outputs": [
    {
     "name": "stdout",
     "output_type": "stream",
     "text": [
      "載入模型失敗!開始訓練一個新模型\n"
     ]
    }
   ],
   "source": [
    "try:\n",
    "    model.load_weights(\"SaveModel/cifarCnnModelnew.h5\")\n",
    "    print(\"載入模型成功!繼續訓練模型\")\n",
    "except :    \n",
    "    print(\"載入模型失敗!開始訓練一個新模型\")"
   ]
  },
  {
   "cell_type": "markdown",
   "metadata": {},
   "source": [
    "# 訓練模型"
   ]
  },
  {
   "cell_type": "code",
   "execution_count": 19,
   "metadata": {},
   "outputs": [],
   "source": [
    "model.compile(loss='categorical_crossentropy', optimizer='adam',\n",
    "              metrics=['accuracy'])"
   ]
  },
  {
   "cell_type": "code",
   "execution_count": 20,
   "metadata": {},
   "outputs": [
    {
     "name": "stdout",
     "output_type": "stream",
     "text": [
      "Train on 40000 samples, validate on 10000 samples\n",
      "Epoch 1/100\n",
      "40000/40000 [==============================] - 5s 116us/step - loss: 1.9013 - accuracy: 0.2874 - val_loss: 1.7536 - val_accuracy: 0.3526\n",
      "Epoch 2/100\n",
      "40000/40000 [==============================] - 3s 77us/step - loss: 1.4721 - accuracy: 0.4555 - val_loss: 1.4409 - val_accuracy: 0.4876\n",
      "Epoch 3/100\n",
      "40000/40000 [==============================] - 3s 76us/step - loss: 1.2506 - accuracy: 0.5485 - val_loss: 1.1795 - val_accuracy: 0.5799\n",
      "Epoch 4/100\n",
      "40000/40000 [==============================] - 3s 75us/step - loss: 1.1150 - accuracy: 0.6033 - val_loss: 1.0247 - val_accuracy: 0.6466\n",
      "Epoch 5/100\n",
      "40000/40000 [==============================] - 3s 78us/step - loss: 0.9924 - accuracy: 0.6471 - val_loss: 0.9263 - val_accuracy: 0.6788\n",
      "Epoch 6/100\n",
      "40000/40000 [==============================] - 3s 75us/step - loss: 0.9084 - accuracy: 0.6787 - val_loss: 0.8687 - val_accuracy: 0.6975\n",
      "Epoch 7/100\n",
      "40000/40000 [==============================] - 3s 75us/step - loss: 0.8406 - accuracy: 0.7012 - val_loss: 0.8088 - val_accuracy: 0.7209\n",
      "Epoch 8/100\n",
      "40000/40000 [==============================] - 3s 78us/step - loss: 0.7732 - accuracy: 0.7255 - val_loss: 0.8085 - val_accuracy: 0.7198\n",
      "Epoch 9/100\n",
      "40000/40000 [==============================] - 3s 77us/step - loss: 0.7283 - accuracy: 0.7411 - val_loss: 0.7191 - val_accuracy: 0.7487\n",
      "Epoch 10/100\n",
      "40000/40000 [==============================] - 3s 76us/step - loss: 0.6653 - accuracy: 0.7631 - val_loss: 0.6954 - val_accuracy: 0.7531\n",
      "Epoch 11/100\n",
      "40000/40000 [==============================] - 3s 78us/step - loss: 0.6208 - accuracy: 0.7803 - val_loss: 0.6950 - val_accuracy: 0.7605\n",
      "Epoch 12/100\n",
      "40000/40000 [==============================] - 3s 75us/step - loss: 0.5709 - accuracy: 0.7992 - val_loss: 0.6794 - val_accuracy: 0.7620\n",
      "Epoch 13/100\n",
      "40000/40000 [==============================] - 3s 79us/step - loss: 0.5341 - accuracy: 0.8113 - val_loss: 0.6624 - val_accuracy: 0.7697\n",
      "Epoch 14/100\n",
      "40000/40000 [==============================] - 3s 77us/step - loss: 0.5023 - accuracy: 0.8205 - val_loss: 0.6531 - val_accuracy: 0.7807\n",
      "Epoch 15/100\n",
      "40000/40000 [==============================] - 3s 77us/step - loss: 0.4624 - accuracy: 0.8350 - val_loss: 0.6278 - val_accuracy: 0.7911\n",
      "Epoch 16/100\n",
      "40000/40000 [==============================] - 3s 76us/step - loss: 0.4308 - accuracy: 0.8463 - val_loss: 0.6632 - val_accuracy: 0.7778\n",
      "Epoch 17/100\n",
      "40000/40000 [==============================] - 3s 75us/step - loss: 0.4088 - accuracy: 0.8555 - val_loss: 0.6470 - val_accuracy: 0.7882\n",
      "Epoch 18/100\n",
      "40000/40000 [==============================] - 3s 76us/step - loss: 0.3831 - accuracy: 0.8634 - val_loss: 0.6536 - val_accuracy: 0.7864\n",
      "Epoch 19/100\n",
      "40000/40000 [==============================] - 3s 79us/step - loss: 0.3591 - accuracy: 0.8712 - val_loss: 0.6851 - val_accuracy: 0.7764\n",
      "Epoch 20/100\n",
      "40000/40000 [==============================] - 3s 77us/step - loss: 0.3330 - accuracy: 0.8813 - val_loss: 0.6537 - val_accuracy: 0.7886\n",
      "Epoch 21/100\n",
      "40000/40000 [==============================] - 3s 74us/step - loss: 0.3120 - accuracy: 0.8898 - val_loss: 0.6802 - val_accuracy: 0.7845\n",
      "Epoch 22/100\n",
      "40000/40000 [==============================] - 3s 76us/step - loss: 0.3048 - accuracy: 0.8909 - val_loss: 0.6798 - val_accuracy: 0.7867\n",
      "Epoch 23/100\n",
      "40000/40000 [==============================] - 3s 75us/step - loss: 0.2862 - accuracy: 0.8982 - val_loss: 0.6659 - val_accuracy: 0.7930\n",
      "Epoch 24/100\n",
      "40000/40000 [==============================] - 3s 78us/step - loss: 0.2679 - accuracy: 0.9050 - val_loss: 0.6634 - val_accuracy: 0.7957\n",
      "Epoch 25/100\n",
      "40000/40000 [==============================] - 3s 76us/step - loss: 0.2551 - accuracy: 0.9096 - val_loss: 0.7110 - val_accuracy: 0.7869\n",
      "Epoch 26/100\n",
      "40000/40000 [==============================] - 3s 77us/step - loss: 0.2466 - accuracy: 0.9113 - val_loss: 0.6795 - val_accuracy: 0.7940\n",
      "Epoch 27/100\n",
      "40000/40000 [==============================] - 3s 75us/step - loss: 0.2330 - accuracy: 0.9173 - val_loss: 0.7299 - val_accuracy: 0.7935\n",
      "Epoch 28/100\n",
      "40000/40000 [==============================] - 3s 75us/step - loss: 0.2275 - accuracy: 0.9194 - val_loss: 0.6984 - val_accuracy: 0.7937\n",
      "Epoch 29/100\n",
      "40000/40000 [==============================] - 3s 77us/step - loss: 0.2112 - accuracy: 0.9255 - val_loss: 0.6995 - val_accuracy: 0.7963\n",
      "Epoch 30/100\n",
      "40000/40000 [==============================] - 3s 76us/step - loss: 0.2168 - accuracy: 0.9259 - val_loss: 0.7007 - val_accuracy: 0.7918\n",
      "Epoch 31/100\n",
      "40000/40000 [==============================] - 3s 74us/step - loss: 0.2042 - accuracy: 0.9281 - val_loss: 0.6920 - val_accuracy: 0.7958\n",
      "Epoch 32/100\n",
      "40000/40000 [==============================] - 3s 76us/step - loss: 0.1924 - accuracy: 0.9319 - val_loss: 0.7528 - val_accuracy: 0.7880\n",
      "Epoch 33/100\n",
      "40000/40000 [==============================] - 3s 76us/step - loss: 0.1895 - accuracy: 0.9338 - val_loss: 0.7226 - val_accuracy: 0.7947\n",
      "Epoch 34/100\n",
      "40000/40000 [==============================] - 3s 77us/step - loss: 0.1838 - accuracy: 0.9348 - val_loss: 0.7320 - val_accuracy: 0.7932\n",
      "Epoch 35/100\n",
      "40000/40000 [==============================] - 3s 74us/step - loss: 0.1779 - accuracy: 0.9369 - val_loss: 0.7146 - val_accuracy: 0.8012\n",
      "Epoch 36/100\n",
      "40000/40000 [==============================] - 3s 76us/step - loss: 0.1675 - accuracy: 0.9423 - val_loss: 0.7320 - val_accuracy: 0.7979\n",
      "Epoch 37/100\n",
      "40000/40000 [==============================] - 3s 76us/step - loss: 0.1700 - accuracy: 0.9411 - val_loss: 0.7432 - val_accuracy: 0.7981\n",
      "Epoch 38/100\n",
      "40000/40000 [==============================] - 3s 76us/step - loss: 0.1671 - accuracy: 0.9403 - val_loss: 0.7290 - val_accuracy: 0.7973\n",
      "Epoch 39/100\n",
      "40000/40000 [==============================] - 3s 76us/step - loss: 0.1682 - accuracy: 0.9428 - val_loss: 0.7625 - val_accuracy: 0.7946\n",
      "Epoch 40/100\n",
      "40000/40000 [==============================] - 3s 74us/step - loss: 0.1569 - accuracy: 0.9454 - val_loss: 0.7704 - val_accuracy: 0.7984\n",
      "Epoch 41/100\n",
      "40000/40000 [==============================] - 3s 76us/step - loss: 0.1535 - accuracy: 0.9477 - val_loss: 0.7144 - val_accuracy: 0.8036\n",
      "Epoch 42/100\n",
      "40000/40000 [==============================] - 3s 74us/step - loss: 0.1504 - accuracy: 0.9485 - val_loss: 0.7673 - val_accuracy: 0.7957\n",
      "Epoch 43/100\n",
      "40000/40000 [==============================] - 3s 75us/step - loss: 0.1495 - accuracy: 0.9481 - val_loss: 0.7443 - val_accuracy: 0.8014\n",
      "Epoch 44/100\n",
      "40000/40000 [==============================] - 3s 76us/step - loss: 0.1453 - accuracy: 0.9494 - val_loss: 0.7997 - val_accuracy: 0.7933\n",
      "Epoch 45/100\n",
      "40000/40000 [==============================] - 3s 77us/step - loss: 0.1428 - accuracy: 0.9510 - val_loss: 0.7826 - val_accuracy: 0.7956\n",
      "Epoch 46/100\n",
      "40000/40000 [==============================] - 3s 77us/step - loss: 0.1472 - accuracy: 0.9505 - val_loss: 0.7139 - val_accuracy: 0.8030\n",
      "Epoch 47/100\n",
      "40000/40000 [==============================] - 3s 76us/step - loss: 0.1369 - accuracy: 0.9526 - val_loss: 0.7409 - val_accuracy: 0.8025\n",
      "Epoch 48/100\n",
      "40000/40000 [==============================] - 3s 76us/step - loss: 0.1332 - accuracy: 0.9547 - val_loss: 0.7501 - val_accuracy: 0.8025\n",
      "Epoch 49/100\n",
      "40000/40000 [==============================] - 3s 76us/step - loss: 0.1311 - accuracy: 0.9549 - val_loss: 0.7860 - val_accuracy: 0.8029\n",
      "Epoch 50/100\n",
      "40000/40000 [==============================] - 3s 76us/step - loss: 0.1391 - accuracy: 0.9538 - val_loss: 0.7667 - val_accuracy: 0.7990\n",
      "Epoch 51/100\n",
      "40000/40000 [==============================] - 3s 77us/step - loss: 0.1310 - accuracy: 0.9554 - val_loss: 0.7675 - val_accuracy: 0.7967\n",
      "Epoch 52/100\n",
      "40000/40000 [==============================] - 3s 75us/step - loss: 0.1294 - accuracy: 0.9546 - val_loss: 0.7574 - val_accuracy: 0.7955\n",
      "Epoch 53/100\n",
      "40000/40000 [==============================] - 3s 76us/step - loss: 0.1294 - accuracy: 0.9553 - val_loss: 0.7768 - val_accuracy: 0.7942\n",
      "Epoch 54/100\n",
      "40000/40000 [==============================] - 3s 78us/step - loss: 0.1244 - accuracy: 0.9561 - val_loss: 0.8013 - val_accuracy: 0.7936\n",
      "Epoch 55/100\n",
      "40000/40000 [==============================] - 3s 76us/step - loss: 0.1261 - accuracy: 0.9580 - val_loss: 0.8007 - val_accuracy: 0.7933\n"
     ]
    },
    {
     "name": "stdout",
     "output_type": "stream",
     "text": [
      "Epoch 56/100\n",
      "40000/40000 [==============================] - 3s 78us/step - loss: 0.1205 - accuracy: 0.9592 - val_loss: 0.7866 - val_accuracy: 0.8023\n",
      "Epoch 57/100\n",
      "40000/40000 [==============================] - 3s 77us/step - loss: 0.1201 - accuracy: 0.9608 - val_loss: 0.8023 - val_accuracy: 0.7912\n",
      "Epoch 58/100\n",
      "40000/40000 [==============================] - 3s 75us/step - loss: 0.1230 - accuracy: 0.9584 - val_loss: 0.7823 - val_accuracy: 0.7982\n",
      "Epoch 59/100\n",
      "40000/40000 [==============================] - 3s 77us/step - loss: 0.1220 - accuracy: 0.9580 - val_loss: 0.8046 - val_accuracy: 0.7957\n",
      "Epoch 60/100\n",
      "40000/40000 [==============================] - 3s 77us/step - loss: 0.1215 - accuracy: 0.9587 - val_loss: 0.8229 - val_accuracy: 0.7924\n",
      "Epoch 61/100\n",
      "40000/40000 [==============================] - 3s 77us/step - loss: 0.1180 - accuracy: 0.9588 - val_loss: 0.8052 - val_accuracy: 0.7966\n",
      "Epoch 62/100\n",
      "40000/40000 [==============================] - 3s 77us/step - loss: 0.1175 - accuracy: 0.9617 - val_loss: 0.8135 - val_accuracy: 0.7932\n",
      "Epoch 63/100\n",
      "40000/40000 [==============================] - 3s 77us/step - loss: 0.1194 - accuracy: 0.9590 - val_loss: 0.7744 - val_accuracy: 0.7983\n",
      "Epoch 64/100\n",
      "40000/40000 [==============================] - 3s 76us/step - loss: 0.1170 - accuracy: 0.9604 - val_loss: 0.7859 - val_accuracy: 0.8001\n",
      "Epoch 65/100\n",
      "40000/40000 [==============================] - 3s 75us/step - loss: 0.1117 - accuracy: 0.9621 - val_loss: 0.8208 - val_accuracy: 0.7969\n",
      "Epoch 66/100\n",
      "40000/40000 [==============================] - 3s 77us/step - loss: 0.1154 - accuracy: 0.9613 - val_loss: 0.7925 - val_accuracy: 0.7993\n",
      "Epoch 67/100\n",
      "40000/40000 [==============================] - 3s 77us/step - loss: 0.1106 - accuracy: 0.9616 - val_loss: 0.7888 - val_accuracy: 0.7999\n",
      "Epoch 68/100\n",
      "40000/40000 [==============================] - 3s 74us/step - loss: 0.1102 - accuracy: 0.9638 - val_loss: 0.8116 - val_accuracy: 0.7987\n",
      "Epoch 69/100\n",
      "40000/40000 [==============================] - 3s 79us/step - loss: 0.1141 - accuracy: 0.9621 - val_loss: 0.7913 - val_accuracy: 0.7992\n",
      "Epoch 70/100\n",
      "40000/40000 [==============================] - 3s 75us/step - loss: 0.1181 - accuracy: 0.9599 - val_loss: 0.8026 - val_accuracy: 0.8011\n",
      "Epoch 71/100\n",
      "40000/40000 [==============================] - 3s 75us/step - loss: 0.1152 - accuracy: 0.9607 - val_loss: 0.8021 - val_accuracy: 0.7967\n",
      "Epoch 72/100\n",
      "40000/40000 [==============================] - 3s 75us/step - loss: 0.1073 - accuracy: 0.9648 - val_loss: 0.7649 - val_accuracy: 0.7979\n",
      "Epoch 73/100\n",
      "40000/40000 [==============================] - 3s 76us/step - loss: 0.1104 - accuracy: 0.9622 - val_loss: 0.7846 - val_accuracy: 0.7986\n",
      "Epoch 74/100\n",
      "40000/40000 [==============================] - 3s 78us/step - loss: 0.1074 - accuracy: 0.9636 - val_loss: 0.8688 - val_accuracy: 0.7845\n",
      "Epoch 75/100\n",
      "40000/40000 [==============================] - 3s 75us/step - loss: 0.1120 - accuracy: 0.9625 - val_loss: 0.7957 - val_accuracy: 0.8016\n",
      "Epoch 76/100\n",
      "40000/40000 [==============================] - 3s 76us/step - loss: 0.1071 - accuracy: 0.9634 - val_loss: 0.7624 - val_accuracy: 0.8049\n",
      "Epoch 77/100\n",
      "40000/40000 [==============================] - 3s 74us/step - loss: 0.1103 - accuracy: 0.9632 - val_loss: 0.7962 - val_accuracy: 0.8000\n",
      "Epoch 78/100\n",
      "40000/40000 [==============================] - 3s 74us/step - loss: 0.1034 - accuracy: 0.9658 - val_loss: 0.7930 - val_accuracy: 0.8010\n",
      "Epoch 79/100\n",
      "40000/40000 [==============================] - 3s 76us/step - loss: 0.1034 - accuracy: 0.9665 - val_loss: 0.8165 - val_accuracy: 0.7911\n",
      "Epoch 80/100\n",
      "40000/40000 [==============================] - 3s 76us/step - loss: 0.1029 - accuracy: 0.9655 - val_loss: 0.7715 - val_accuracy: 0.8038\n",
      "Epoch 81/100\n",
      "40000/40000 [==============================] - 3s 77us/step - loss: 0.1110 - accuracy: 0.9625 - val_loss: 0.7798 - val_accuracy: 0.7999\n",
      "Epoch 82/100\n",
      "40000/40000 [==============================] - 3s 76us/step - loss: 0.1053 - accuracy: 0.9648 - val_loss: 0.8306 - val_accuracy: 0.7985\n",
      "Epoch 83/100\n",
      "40000/40000 [==============================] - 3s 78us/step - loss: 0.1080 - accuracy: 0.9643 - val_loss: 0.8004 - val_accuracy: 0.7992\n",
      "Epoch 84/100\n",
      "40000/40000 [==============================] - 3s 79us/step - loss: 0.1048 - accuracy: 0.9659 - val_loss: 0.8010 - val_accuracy: 0.7871\n",
      "Epoch 85/100\n",
      "40000/40000 [==============================] - 3s 77us/step - loss: 0.1013 - accuracy: 0.9660 - val_loss: 0.8448 - val_accuracy: 0.7945\n",
      "Epoch 86/100\n",
      "40000/40000 [==============================] - 3s 77us/step - loss: 0.0965 - accuracy: 0.9675 - val_loss: 0.7974 - val_accuracy: 0.7990\n",
      "Epoch 87/100\n",
      "40000/40000 [==============================] - 3s 76us/step - loss: 0.1081 - accuracy: 0.9648 - val_loss: 0.7780 - val_accuracy: 0.7968\n",
      "Epoch 88/100\n",
      "40000/40000 [==============================] - 3s 76us/step - loss: 0.0994 - accuracy: 0.9670 - val_loss: 0.7902 - val_accuracy: 0.8014\n",
      "Epoch 89/100\n",
      "40000/40000 [==============================] - 3s 75us/step - loss: 0.0970 - accuracy: 0.9686 - val_loss: 0.7988 - val_accuracy: 0.8005\n",
      "Epoch 90/100\n",
      "40000/40000 [==============================] - 3s 75us/step - loss: 0.0953 - accuracy: 0.9681 - val_loss: 0.8153 - val_accuracy: 0.8024\n",
      "Epoch 91/100\n",
      "40000/40000 [==============================] - 3s 75us/step - loss: 0.1046 - accuracy: 0.9657 - val_loss: 0.7806 - val_accuracy: 0.7936\n",
      "Epoch 92/100\n",
      "40000/40000 [==============================] - 3s 74us/step - loss: 0.1005 - accuracy: 0.9671 - val_loss: 0.7857 - val_accuracy: 0.7957\n",
      "Epoch 93/100\n",
      "40000/40000 [==============================] - 3s 76us/step - loss: 0.0989 - accuracy: 0.9678 - val_loss: 0.7814 - val_accuracy: 0.8029\n",
      "Epoch 94/100\n",
      "40000/40000 [==============================] - 3s 74us/step - loss: 0.0979 - accuracy: 0.9682 - val_loss: 0.7873 - val_accuracy: 0.7942\n",
      "Epoch 95/100\n",
      "40000/40000 [==============================] - 3s 74us/step - loss: 0.0969 - accuracy: 0.9684 - val_loss: 0.8181 - val_accuracy: 0.7949\n",
      "Epoch 96/100\n",
      "40000/40000 [==============================] - 3s 75us/step - loss: 0.1011 - accuracy: 0.9671 - val_loss: 0.8014 - val_accuracy: 0.8021\n",
      "Epoch 97/100\n",
      "40000/40000 [==============================] - 3s 76us/step - loss: 0.0957 - accuracy: 0.9677 - val_loss: 0.8071 - val_accuracy: 0.7967\n",
      "Epoch 98/100\n",
      "40000/40000 [==============================] - 3s 74us/step - loss: 0.0934 - accuracy: 0.9689 - val_loss: 0.8084 - val_accuracy: 0.7949\n",
      "Epoch 99/100\n",
      "40000/40000 [==============================] - 3s 78us/step - loss: 0.0952 - accuracy: 0.9692 - val_loss: 0.8184 - val_accuracy: 0.7942\n",
      "Epoch 100/100\n",
      "40000/40000 [==============================] - 3s 75us/step - loss: 0.1026 - accuracy: 0.9665 - val_loss: 0.8093 - val_accuracy: 0.8005\n"
     ]
    }
   ],
   "source": [
    "train_history=model.fit(X_img_train_normalize, y_label_train_OneHot,\n",
    "                        validation_split=0.2,\n",
    "                        epochs=100, batch_size=300, verbose=1)          "
   ]
  },
  {
   "cell_type": "code",
   "execution_count": 21,
   "metadata": {},
   "outputs": [],
   "source": [
    "import matplotlib.pyplot as plt\n",
    "def show_train_history(train_acc,test_acc):\n",
    "    plt.plot(train_history.history[train_acc])\n",
    "    plt.plot(train_history.history[test_acc])\n",
    "    plt.title('Train History')\n",
    "    plt.ylabel('Accuracy')\n",
    "    plt.xlabel('Epoch')\n",
    "    plt.legend(['train', 'test'], loc='upper left')\n",
    "    plt.show()"
   ]
  },
  {
   "cell_type": "code",
   "execution_count": 22,
   "metadata": {},
   "outputs": [
    {
     "data": {
      "image/png": "[encoded data removed]",
      "text/plain": [
       "<Figure size 432x288 with 1 Axes>"
      ]
     },
     "metadata": {
      "needs_background": "light"
     },
     "output_type": "display_data"
    }
   ],
   "source": [
    "show_train_history('accuracy','val_accuracy')"
   ]
  },
  {
   "cell_type": "code",
   "execution_count": 23,
   "metadata": {},
   "outputs": [
    {
     "data": {
      "image/png": "[encoded data removed]",
      "text/plain": [
       "<Figure size 432x288 with 1 Axes>"
      ]
     },
     "metadata": {
      "needs_background": "light"
     },
     "output_type": "display_data"
    }
   ],
   "source": [
    "show_train_history('loss','val_loss')"
   ]
  },
  {
   "cell_type": "markdown",
   "metadata": {},
   "source": [
    "# 評估模型準確率"
   ]
  },
  {
   "cell_type": "code",
   "execution_count": 24,
   "metadata": {},
   "outputs": [
    {
     "data": {
      "text/plain": [
       "0.7900999784469604"
      ]
     },
     "execution_count": 24,
     "metadata": {},
     "output_type": "execute_result"
    }
   ],
   "source": [
    "scores = model.evaluate(X_img_test_normalize, \n",
    "                        y_label_test_OneHot,verbose=0)\n",
    "scores[1]"
   ]
  },
  {
   "cell_type": "markdown",
   "metadata": {},
   "source": [
    "# 進行預測"
   ]
  },
  {
   "cell_type": "code",
   "execution_count": 25,
   "metadata": {},
   "outputs": [],
   "source": [
    "prediction=model.predict_classes(X_img_test_normalize)"
   ]
  },
  {
   "cell_type": "code",
   "execution_count": 26,
   "metadata": {},
   "outputs": [
    {
     "data": {
      "text/plain": [
       "array([3, 8, 8, 0, 6, 6, 1, 6, 3, 9])"
      ]
     },
     "execution_count": 26,
     "metadata": {},
     "output_type": "execute_result"
    }
   ],
   "source": [
    "prediction[:10]"
   ]
  },
  {
   "cell_type": "code",
   "execution_count": 27,
   "metadata": {},
   "outputs": [],
   "source": [
    "label_dict={0:\"airplane\",1:\"automobile\",2:\"bird\",3:\"cat\",4:\"deer\",\n",
    "            5:\"dog\",6:\"frog\",7:\"horse\",8:\"ship\",9:\"truck\"}"
   ]
  },
  {
   "cell_type": "code",
   "execution_count": 28,
   "metadata": {},
   "outputs": [],
   "source": [
    "import matplotlib.pyplot as plt\n",
    "def plot_images_labels_prediction(images,labels,prediction,\n",
    "                                  idx,num=10):\n",
    "    fig = plt.gcf()\n",
    "    fig.set_size_inches(12, 14)\n",
    "    if num>25: num=25 \n",
    "    for i in range(0, num):\n",
    "        ax=plt.subplot(5,5, 1+i)\n",
    "        ax.imshow(images[idx],cmap='binary')\n",
    "                \n",
    "        title=str(i)+','+label_dict[labels[i][0]]\n",
    "        if len(prediction)>0:\n",
    "            title+='=>'+label_dict[prediction[i]]\n",
    "            \n",
    "        ax.set_title(title,fontsize=10) \n",
    "        ax.set_xticks([]);ax.set_yticks([])        \n",
    "        idx+=1 \n",
    "    plt.show()"
   ]
  },
  {
   "cell_type": "code",
   "execution_count": 29,
   "metadata": {},
   "outputs": [
    {
     "data": {
      "image/png": "[encoded data removed]",
      "text/plain": [
       "<Figure size 864x1008 with 10 Axes>"
      ]
     },
     "metadata": {},
     "output_type": "display_data"
    }
   ],
   "source": [
    "plot_images_labels_prediction(X_img_test_normalize,y_label_test,\n",
    "                              prediction,0,10)"
   ]
  },
  {
   "cell_type": "markdown",
   "metadata": {},
   "source": [
    "# 查看預測機率"
   ]
  },
  {
   "cell_type": "code",
   "execution_count": 30,
   "metadata": {},
   "outputs": [],
   "source": [
    "Predicted_Probability=model.predict(X_img_test_normalize)"
   ]
  },
  {
   "cell_type": "code",
   "execution_count": 31,
   "metadata": {},
   "outputs": [],
   "source": [
    "def show_Predicted_Probability(X_img,Predicted_Probability,i):\n",
    "    plt.figure(figsize=(2,2))\n",
    "    plt.imshow(np.reshape(X_img_test[i],(32, 32,3)))\n",
    "    plt.show()\n",
    "    for j in range(10):\n",
    "        print(label_dict[j]+' Probability:%1.9f'%(Predicted_Probability[i][j]))"
   ]
  },
  {
   "cell_type": "code",
   "execution_count": 32,
   "metadata": {},
   "outputs": [
    {
     "data": {
      "image/png": "[encoded data removed]",
      "text/plain": [
       "<Figure size 144x144 with 1 Axes>"
      ]
     },
     "metadata": {
      "needs_background": "light"
     },
     "output_type": "display_data"
    },
    {
     "name": "stdout",
     "output_type": "stream",
     "text": [
      "airplane Probability:0.000080050\n",
      "automobile Probability:0.000033810\n",
      "bird Probability:0.000350694\n",
      "cat Probability:0.989845395\n",
      "deer Probability:0.000033643\n",
      "dog Probability:0.001429421\n",
      "frog Probability:0.003991196\n",
      "horse Probability:0.000054148\n",
      "ship Probability:0.004173921\n",
      "truck Probability:0.000007723\n"
     ]
    }
   ],
   "source": [
    "show_Predicted_Probability(X_img_test,Predicted_Probability,0)"
   ]
  },
  {
   "cell_type": "code",
   "execution_count": 33,
   "metadata": {},
   "outputs": [
    {
     "data": {
      "image/png": "[encoded data removed]",
      "text/plain": [
       "<Figure size 144x144 with 1 Axes>"
      ]
     },
     "metadata": {
      "needs_background": "light"
     },
     "output_type": "display_data"
    },
    {
     "name": "stdout",
     "output_type": "stream",
     "text": [
      "airplane Probability:0.988148630\n",
      "automobile Probability:0.000019006\n",
      "bird Probability:0.000286981\n",
      "cat Probability:0.000869786\n",
      "deer Probability:0.000131834\n",
      "dog Probability:0.000000121\n",
      "frog Probability:0.000000661\n",
      "horse Probability:0.000003768\n",
      "ship Probability:0.010332067\n",
      "truck Probability:0.000207215\n"
     ]
    }
   ],
   "source": [
    "show_Predicted_Probability(X_img_test,Predicted_Probability,3)"
   ]
  },
  {
   "cell_type": "markdown",
   "metadata": {},
   "source": [
    "# Save model to JSON"
   ]
  },
  {
   "cell_type": "code",
   "execution_count": 34,
   "metadata": {},
   "outputs": [],
   "source": [
    "model_json = model.to_json()\n",
    "with open(\"SaveModel/cifarCnnModelnew.json\", \"w\") as json_file:\n",
    "    json_file.write(model_json)"
   ]
  },
  {
   "cell_type": "markdown",
   "metadata": {},
   "source": [
    "# Save Model to YAML"
   ]
  },
  {
   "cell_type": "code",
   "execution_count": 35,
   "metadata": {},
   "outputs": [],
   "source": [
    "model_yaml = model.to_yaml()\n",
    "with open(\"SaveModel/cifarCnnModelnew.yaml\", \"w\") as yaml_file:\n",
    "    yaml_file.write(model_yaml)\n"
   ]
  },
  {
   "cell_type": "markdown",
   "metadata": {},
   "source": [
    "# Save Weight to h5 "
   ]
  },
  {
   "cell_type": "code",
   "execution_count": 36,
   "metadata": {},
   "outputs": [
    {
     "name": "stdout",
     "output_type": "stream",
     "text": [
      "Saved model to disk\n"
     ]
    }
   ],
   "source": [
    "model.save_weights(\"SaveModel/cifarCnnModelnew.h5\")\n",
    "print(\"Saved model to disk\")"
   ]
  },
  {
   "cell_type": "code",
   "execution_count": null,
   "metadata": {},
   "outputs": [],
   "source": []
  }
 ],
 "metadata": {
  "anaconda-cloud": {},
  "kernelspec": {
   "display_name": "Python 3",
   "language": "python",
   "name": "python3"
  },
  "language_info": {
   "codemirror_mode": {
    "name": "ipython",
    "version": 3
   },
   "file_extension": ".py",
   "mimetype": "text/x-python",
   "name": "python",
   "nbconvert_exporter": "python",
   "pygments_lexer": "ipython3",
   "version": "3.6.13"
  }
 },
 "nbformat": 4,
 "nbformat_minor": 1
}
